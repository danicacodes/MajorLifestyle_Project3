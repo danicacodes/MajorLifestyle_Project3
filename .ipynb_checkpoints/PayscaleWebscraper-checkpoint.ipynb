{
 "cells": [
  {
   "cell_type": "code",
   "execution_count": 1,
   "metadata": {},
   "outputs": [],
   "source": [
    "from bs4 import BeautifulSoup as bs\n",
    "import requests\n",
    "from splinter import Browser\n",
    "import pandas as pd\n",
    "import pprint as pprint\n",
    "import os\n",
    "import pymongo\n",
    "from copy import deepcopy"
   ]
  },
  {
   "cell_type": "code",
   "execution_count": 2,
   "metadata": {},
   "outputs": [],
   "source": [
    "#Beginning Scrapping"
   ]
  },
  {
   "cell_type": "code",
   "execution_count": 3,
   "metadata": {},
   "outputs": [],
   "source": [
    "executable_path = {'executable_path': 'chromedriver.exe'}\n",
    "browser = Browser('chrome', **executable_path, headless=False)"
   ]
  },
  {
   "cell_type": "code",
   "execution_count": 4,
   "metadata": {},
   "outputs": [],
   "source": [
    "base_url = 'https://www.payscale.com/cost-of-living-calculator/'\n",
    "browser.visit(base_url)"
   ]
  },
  {
   "cell_type": "code",
   "execution_count": 5,
   "metadata": {},
   "outputs": [
    {
     "name": "stderr",
     "output_type": "stream",
     "text": [
      "C:\\Users\\dnunez\\LearnPython\\Anaconda3\\lib\\site-packages\\bs4\\__init__.py:335: UserWarning: \"https://www.payscale.com/cost-of-living-calculator/\" looks like a URL. Beautiful Soup is not an HTTP client. You should probably use an HTTP client like requests to get the document behind the URL, and feed that document to Beautiful Soup.\n",
      "  ' that document to Beautiful Soup.' % decoded_markup\n"
     ]
    }
   ],
   "source": [
    "base_html = browser.html\n",
    "base_soup = bs(base_url, 'html.parser')"
   ]
  },
  {
   "cell_type": "code",
   "execution_count": 6,
   "metadata": {},
   "outputs": [
    {
     "name": "stdout",
     "output_type": "stream",
     "text": [
      "https://www.payscale.com/cost-of-living-calculator/\n",
      "\n"
     ]
    }
   ],
   "source": [
    "print(base_soup.prettify())"
   ]
  },
  {
   "cell_type": "code",
   "execution_count": 7,
   "metadata": {},
   "outputs": [
    {
     "data": {
      "text/plain": [
       "['California-San-Francisco',\n",
       " 'California-Los-Angeles',\n",
       " 'California-San-Diego',\n",
       " 'California-San-Jose']"
      ]
     },
     "execution_count": 7,
     "metadata": {},
     "output_type": "execute_result"
    }
   ],
   "source": [
    "city_list = ['California-San-Francisco', 'California-Los-Angeles', 'California-San-Diego', 'California-San-Jose']\n",
    "table_dfs = []\n",
    "for city in city_list:\n",
    "    df_name = city\n",
    "    table_dfs.append(df_name)\n",
    "\n",
    "table_dfs"
   ]
  },
  {
   "cell_type": "code",
   "execution_count": 8,
   "metadata": {},
   "outputs": [
    {
     "name": "stdout",
     "output_type": "stream",
     "text": [
      "https://www.payscale.com/cost-of-living-calculator/California-San-Francisco\n",
      "https://www.payscale.com/cost-of-living-calculator/California-Los-Angeles\n",
      "https://www.payscale.com/cost-of-living-calculator/California-San-Diego\n",
      "https://www.payscale.com/cost-of-living-calculator/California-San-Jose\n"
     ]
    }
   ],
   "source": [
    "count = 0\n",
    "pages = []\n",
    "for page in range(2, 6):\n",
    "    page_url = f\"{base_url}{city_list[count]}\"\n",
    "    count = count + 1\n",
    "    pages.append(page_url)\n",
    "    print(page_url)"
   ]
  },
  {
   "cell_type": "code",
   "execution_count": 9,
   "metadata": {},
   "outputs": [
    {
     "name": "stdout",
     "output_type": "stream",
     "text": [
      "['https://www.payscale.com/cost-of-living-calculator/California-San-Francisco', 'https://www.payscale.com/cost-of-living-calculator/California-Los-Angeles', 'https://www.payscale.com/cost-of-living-calculator/California-San-Diego', 'https://www.payscale.com/cost-of-living-calculator/California-San-Jose']\n"
     ]
    }
   ],
   "source": [
    "print(pages)"
   ]
  },
  {
   "cell_type": "code",
   "execution_count": 10,
   "metadata": {},
   "outputs": [],
   "source": [
    "headers = ['Median Home Price','Median Rent','Energy Bill','Phone Bill','Gas','Loaf of Bread', \\\n",
    "           'Gallon of Milk','Carton of Eggs','Bunch of Bananas','Hamburger',\"Doctor's Visit\",\\\n",
    "           'Dentist Visit','Optometrist Visit','Rx Drug','Veterinary Visit']"
   ]
  },
  {
   "cell_type": "code",
   "execution_count": 13,
   "metadata": {},
   "outputs": [
    {
     "data": {
      "text/html": [
       "<div>\n",
       "<style scoped>\n",
       "    .dataframe tbody tr th:only-of-type {\n",
       "        vertical-align: middle;\n",
       "    }\n",
       "\n",
       "    .dataframe tbody tr th {\n",
       "        vertical-align: top;\n",
       "    }\n",
       "\n",
       "    .dataframe thead th {\n",
       "        text-align: right;\n",
       "    }\n",
       "</style>\n",
       "<table border=\"1\" class=\"dataframe\">\n",
       "  <thead>\n",
       "    <tr style=\"text-align: right;\">\n",
       "      <th></th>\n",
       "      <th>Bunch of Bananas</th>\n",
       "      <th>Carton of Eggs</th>\n",
       "      <th>Dentist Visit</th>\n",
       "      <th>Doctor's Visit</th>\n",
       "      <th>Energy Bill</th>\n",
       "      <th>Gallon of Milk</th>\n",
       "      <th>Gas</th>\n",
       "      <th>Hamburger</th>\n",
       "      <th>Loaf of Bread</th>\n",
       "      <th>Median Home Price</th>\n",
       "      <th>Median Rent</th>\n",
       "      <th>Optometrist Visit</th>\n",
       "      <th>Phone Bill</th>\n",
       "      <th>Rx Drug</th>\n",
       "      <th>Veterinary Visit</th>\n",
       "    </tr>\n",
       "    <tr>\n",
       "      <th>States</th>\n",
       "      <th></th>\n",
       "      <th></th>\n",
       "      <th></th>\n",
       "      <th></th>\n",
       "      <th></th>\n",
       "      <th></th>\n",
       "      <th></th>\n",
       "      <th></th>\n",
       "      <th></th>\n",
       "      <th></th>\n",
       "      <th></th>\n",
       "      <th></th>\n",
       "      <th></th>\n",
       "      <th></th>\n",
       "      <th></th>\n",
       "    </tr>\n",
       "  </thead>\n",
       "  <tbody>\n",
       "    <tr>\n",
       "      <th>California-San-Francisco</th>\n",
       "      <td>$4.32</td>\n",
       "      <td>$2.33</td>\n",
       "      <td>$114.23</td>\n",
       "      <td>$132.96</td>\n",
       "      <td>$182.92 / month</td>\n",
       "      <td>$2.49</td>\n",
       "      <td>$3.51 / gallon</td>\n",
       "      <td>$5.45</td>\n",
       "      <td>$4.28</td>\n",
       "      <td>$1,146,835</td>\n",
       "      <td>$3,593 / month</td>\n",
       "      <td>$124.59</td>\n",
       "      <td>$194.98 / month</td>\n",
       "      <td>$529.64</td>\n",
       "      <td>$62.84</td>\n",
       "    </tr>\n",
       "    <tr>\n",
       "      <th>California-Los-Angeles</th>\n",
       "      <td>$3.77</td>\n",
       "      <td>$2.03</td>\n",
       "      <td>$104.53</td>\n",
       "      <td>$121.67</td>\n",
       "      <td>$180.74 / month</td>\n",
       "      <td>$2.17</td>\n",
       "      <td>$3.42 / gallon</td>\n",
       "      <td>$4.75</td>\n",
       "      <td>$3.73</td>\n",
       "      <td>$788,384</td>\n",
       "      <td>$2,470 / month</td>\n",
       "      <td>$114.01</td>\n",
       "      <td>$192.66 / month</td>\n",
       "      <td>$484.66</td>\n",
       "      <td>$54.97</td>\n",
       "    </tr>\n",
       "    <tr>\n",
       "      <th>California-San-Diego</th>\n",
       "      <td>$3.79</td>\n",
       "      <td>$2.04</td>\n",
       "      <td>$102.24</td>\n",
       "      <td>$119.01</td>\n",
       "      <td>$192.64 / month</td>\n",
       "      <td>$2.19</td>\n",
       "      <td>$3.36 / gallon</td>\n",
       "      <td>$4.79</td>\n",
       "      <td>$3.76</td>\n",
       "      <td>$817,185</td>\n",
       "      <td>$2,560 / month</td>\n",
       "      <td>$111.52</td>\n",
       "      <td>$205.35 / month</td>\n",
       "      <td>$474.08</td>\n",
       "      <td>$52.55</td>\n",
       "    </tr>\n",
       "    <tr>\n",
       "      <th>California-San-Jose</th>\n",
       "      <td>$4.06</td>\n",
       "      <td>$2.18</td>\n",
       "      <td>$110.42</td>\n",
       "      <td>$128.53</td>\n",
       "      <td>$210.75 / month</td>\n",
       "      <td>$2.34</td>\n",
       "      <td>$2.91 / gallon</td>\n",
       "      <td>$5.12</td>\n",
       "      <td>$4.02</td>\n",
       "      <td>$860,907</td>\n",
       "      <td>$2,697 / month</td>\n",
       "      <td>$120.44</td>\n",
       "      <td>$224.65 / month</td>\n",
       "      <td>$512.00</td>\n",
       "      <td>$55.07</td>\n",
       "    </tr>\n",
       "  </tbody>\n",
       "</table>\n",
       "</div>"
      ],
      "text/plain": [
       "                         Bunch of Bananas Carton of Eggs Dentist Visit  \\\n",
       "States                                                                   \n",
       "California-San-Francisco            $4.32          $2.33       $114.23   \n",
       "California-Los-Angeles              $3.77          $2.03       $104.53   \n",
       "California-San-Diego                $3.79          $2.04       $102.24   \n",
       "California-San-Jose                 $4.06          $2.18       $110.42   \n",
       "\n",
       "                         Doctor's Visit       Energy Bill Gallon of Milk  \\\n",
       "States                                                                     \n",
       "California-San-Francisco        $132.96  $182.92 / month           $2.49   \n",
       "California-Los-Angeles          $121.67  $180.74 / month           $2.17   \n",
       "California-San-Diego            $119.01  $192.64 / month           $2.19   \n",
       "California-San-Jose             $128.53  $210.75 / month           $2.34   \n",
       "\n",
       "                                      Gas Hamburger Loaf of Bread  \\\n",
       "States                                                              \n",
       "California-San-Francisco  $3.51 / gallon      $5.45         $4.28   \n",
       "California-Los-Angeles    $3.42 / gallon      $4.75         $3.73   \n",
       "California-San-Diego      $3.36 / gallon      $4.79         $3.76   \n",
       "California-San-Jose       $2.91 / gallon      $5.12         $4.02   \n",
       "\n",
       "                         Median Home Price      Median Rent Optometrist Visit  \\\n",
       "States                                                                          \n",
       "California-San-Francisco        $1,146,835  $3,593 / month            $124.59   \n",
       "California-Los-Angeles            $788,384  $2,470 / month            $114.01   \n",
       "California-San-Diego              $817,185  $2,560 / month            $111.52   \n",
       "California-San-Jose               $860,907  $2,697 / month            $120.44   \n",
       "\n",
       "                                Phone Bill  Rx Drug Veterinary Visit  \n",
       "States                                                                \n",
       "California-San-Francisco  $194.98 / month   $529.64           $62.84  \n",
       "California-Los-Angeles    $192.66 / month   $484.66           $54.97  \n",
       "California-San-Diego      $205.35 / month   $474.08           $52.55  \n",
       "California-San-Jose       $224.65 / month   $512.00           $55.07  "
      ]
     },
     "execution_count": 13,
     "metadata": {},
     "output_type": "execute_result"
    }
   ],
   "source": [
    "lifestyle_df = pd.DataFrame()\n",
    "for page in pages:\n",
    "   browser.visit(page)\n",
    "   cali_region = browser.html\n",
    "   cali_soup = bs(cali_region, 'html.parser')\n",
    "   values = []\n",
    "   for info in cali_soup.find_all('div', class_='itemized__item-container'):\n",
    "       for v in info.find_all('div', class_='itemized__item-value'):\n",
    "           value = v.text\n",
    "           values.append(deepcopy(value))\n",
    "   style_df = pd.DataFrame([{headers[x]:values[x] for x in range(len(headers))}])\n",
    "   lifestyle_df = lifestyle_df.append(deepcopy(style_df))\n",
    "\n",
    "df = pd.DataFrame(lifestyle_df)\n",
    "df['States']= city_list\n",
    "\n",
    "\n",
    "cali_data = df.set_index('States')\n",
    "cali_data"
   ]
  },
  {
   "cell_type": "code",
   "execution_count": null,
   "metadata": {},
   "outputs": [],
   "source": []
  }
 ],
 "metadata": {
  "kernelspec": {
   "display_name": "Python 3",
   "language": "python",
   "name": "python3"
  },
  "language_info": {
   "codemirror_mode": {
    "name": "ipython",
    "version": 3
   },
   "file_extension": ".py",
   "mimetype": "text/x-python",
   "name": "python",
   "nbconvert_exporter": "python",
   "pygments_lexer": "ipython3",
   "version": "3.7.3"
  }
 },
 "nbformat": 4,
 "nbformat_minor": 2
}
