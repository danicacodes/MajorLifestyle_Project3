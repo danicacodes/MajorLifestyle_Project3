{
 "cells": [
  {
   "cell_type": "code",
   "execution_count": 1,
   "metadata": {},
   "outputs": [],
   "source": [
    "from bs4 import BeautifulSoup as bs\n",
    "import requests\n",
    "from splinter import Browser\n",
    "import pandas as pd\n",
    "import pprint as pprint\n",
    "import os\n",
    "import pymongo"
   ]
  },
  {
   "cell_type": "code",
   "execution_count": 2,
   "metadata": {},
   "outputs": [],
   "source": [
    "#Beginning Scrapping"
   ]
  },
  {
   "cell_type": "code",
   "execution_count": 3,
   "metadata": {},
   "outputs": [],
   "source": [
    "executable_path = {'executable_path': 'chromedriver.exe'}\n",
    "browser = Browser('chrome', **executable_path, headless=False)"
   ]
  },
  {
   "cell_type": "code",
   "execution_count": 4,
   "metadata": {},
   "outputs": [],
   "source": [
    "base_url = 'https://www.payscale.com/cost-of-living-calculator/'\n",
    "browser.visit(base_url)"
   ]
  },
  {
   "cell_type": "code",
   "execution_count": 5,
   "metadata": {},
   "outputs": [
    {
     "name": "stderr",
     "output_type": "stream",
     "text": [
      "C:\\Users\\dnunez\\LearnPython\\Anaconda3\\lib\\site-packages\\bs4\\__init__.py:335: UserWarning: \"https://www.payscale.com/cost-of-living-calculator/\" looks like a URL. Beautiful Soup is not an HTTP client. You should probably use an HTTP client like requests to get the document behind the URL, and feed that document to Beautiful Soup.\n",
      "  ' that document to Beautiful Soup.' % decoded_markup\n"
     ]
    }
   ],
   "source": [
    "base_html = browser.html\n",
    "base_soup = bs(base_url, 'html.parser')"
   ]
  },
  {
   "cell_type": "code",
   "execution_count": 6,
   "metadata": {},
   "outputs": [
    {
     "name": "stdout",
     "output_type": "stream",
     "text": [
      "https://www.payscale.com/cost-of-living-calculator/\n",
      "\n"
     ]
    }
   ],
   "source": [
    "print(base_soup.prettify())"
   ]
  },
  {
   "cell_type": "code",
   "execution_count": 7,
   "metadata": {},
   "outputs": [
    {
     "data": {
      "text/plain": [
       "['California-San-Francisco',\n",
       " 'California-Los-Angeles',\n",
       " 'California-San-Diego',\n",
       " 'California-San-Jose']"
      ]
     },
     "execution_count": 7,
     "metadata": {},
     "output_type": "execute_result"
    }
   ],
   "source": [
    "city_list = ['California-San-Francisco', 'California-Los-Angeles', 'California-San-Diego', 'California-San-Jose']\n",
    "table_dfs = []\n",
    "for city in city_list:\n",
    "    df_name = city\n",
    "    table_dfs.append(df_name)\n",
    "\n",
    "table_dfs"
   ]
  },
  {
   "cell_type": "code",
   "execution_count": 8,
   "metadata": {},
   "outputs": [
    {
     "name": "stdout",
     "output_type": "stream",
     "text": [
      "https://www.payscale.com/cost-of-living-calculator/California-San-Francisco\n",
      "https://www.payscale.com/cost-of-living-calculator/California-Los-Angeles\n",
      "https://www.payscale.com/cost-of-living-calculator/California-San-Diego\n",
      "https://www.payscale.com/cost-of-living-calculator/California-San-Jose\n"
     ]
    }
   ],
   "source": [
    "count = 0\n",
    "pages = []\n",
    "for page in range(2, 6):\n",
    "    page_url = f\"{base_url}{city_list[count]}\"\n",
    "    count = count + 1\n",
    "    pages.append(page_url)\n",
    "    print(page_url)"
   ]
  },
  {
   "cell_type": "code",
   "execution_count": 9,
   "metadata": {},
   "outputs": [
    {
     "name": "stdout",
     "output_type": "stream",
     "text": [
      "['https://www.payscale.com/cost-of-living-calculator/California-San-Francisco', 'https://www.payscale.com/cost-of-living-calculator/California-Los-Angeles', 'https://www.payscale.com/cost-of-living-calculator/California-San-Diego', 'https://www.payscale.com/cost-of-living-calculator/California-San-Jose']\n"
     ]
    }
   ],
   "source": [
    "print(pages)"
   ]
  },
  {
   "cell_type": "code",
   "execution_count": 10,
   "metadata": {},
   "outputs": [
    {
     "data": {
      "text/html": [
       "<div>\n",
       "<style scoped>\n",
       "    .dataframe tbody tr th:only-of-type {\n",
       "        vertical-align: middle;\n",
       "    }\n",
       "\n",
       "    .dataframe tbody tr th {\n",
       "        vertical-align: top;\n",
       "    }\n",
       "\n",
       "    .dataframe thead th {\n",
       "        text-align: right;\n",
       "    }\n",
       "</style>\n",
       "<table border=\"1\" class=\"dataframe\">\n",
       "  <thead>\n",
       "    <tr style=\"text-align: right;\">\n",
       "      <th></th>\n",
       "      <th>Title</th>\n",
       "      <th>Values</th>\n",
       "    </tr>\n",
       "  </thead>\n",
       "  <tbody>\n",
       "  </tbody>\n",
       "</table>\n",
       "</div>"
      ],
      "text/plain": [
       "Empty DataFrame\n",
       "Columns: [Title, Values]\n",
       "Index: []"
      ]
     },
     "execution_count": 10,
     "metadata": {},
     "output_type": "execute_result"
    }
   ],
   "source": [
    "titles=[]\n",
    "values=[]\n",
    "\n",
    "for page in pages:\n",
    "   browser.visit(page)\n",
    "   base_html = browser.html\n",
    "   base_soup = bs(base_url, 'html.parser')\n",
    "   for info in base_soup.find_all('div', class_='itemized__item-container'):\n",
    "       for t in info.find_all('div', class_='itemized__item-title'):\n",
    "           title = t.text\n",
    "           titles.append(title)\n",
    "       for v in info.find_all('div', class_='itemized__item-value'):\n",
    "           value = v.text\n",
    "           values.append(value)\n",
    "\n",
    "        \n",
    "lifestyle_df = pd.DataFrame({'Title': titles, 'Values':values})\n",
    "lifestyle_df"
   ]
  }
 ],
 "metadata": {
  "kernelspec": {
   "display_name": "Python 3",
   "language": "python",
   "name": "python3"
  },
  "language_info": {
   "codemirror_mode": {
    "name": "ipython",
    "version": 3
   },
   "file_extension": ".py",
   "mimetype": "text/x-python",
   "name": "python",
   "nbconvert_exporter": "python",
   "pygments_lexer": "ipython3",
   "version": "3.7.3"
  }
 },
 "nbformat": 4,
 "nbformat_minor": 2
}
